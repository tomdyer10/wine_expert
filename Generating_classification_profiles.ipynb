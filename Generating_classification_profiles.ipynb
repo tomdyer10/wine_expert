{
  "nbformat": 4,
  "nbformat_minor": 0,
  "metadata": {
    "colab": {
      "name": "Generating_classification_profiles.ipynb",
      "provenance": [],
      "mount_file_id": "1HQAMFZOYOVZ0N-aylUxm5Ujmu_kGHmCH",
      "authorship_tag": "ABX9TyPt3N71QzxDrM0EcieSMVgR",
      "include_colab_link": true
    },
    "kernelspec": {
      "name": "python3",
      "display_name": "Python 3"
    },
    "accelerator": "GPU"
  },
  "cells": [
    {
      "cell_type": "markdown",
      "metadata": {
        "id": "view-in-github",
        "colab_type": "text"
      },
      "source": [
        "<a href=\"https://colab.research.google.com/github/tomdyer10/wine_expert/blob/master/Generating_classification_profiles.ipynb\" target=\"_parent\"><img src=\"https://colab.research.google.com/assets/colab-badge.svg\" alt=\"Open In Colab\"/></a>"
      ]
    },
    {
      "cell_type": "markdown",
      "metadata": {
        "id": "uQ8PtBphsOYJ",
        "colab_type": "text"
      },
      "source": [
        "Let's attempt to build a generative model which creates descriptions of each wine regions characteristics.\n",
        "\n",
        "I will first build a 'pseudo' GAN which generates many 3-grams and selects the most applicable for the target class. This will be repeated 10 times to give a 30 word long regional description."
      ]
    },
    {
      "cell_type": "code",
      "metadata": {
        "id": "eey4lR7ysLrh",
        "colab_type": "code",
        "colab": {}
      },
      "source": [
        "from fastai.text import *\n",
        "import pandas as pd \n",
        "import numpy as np"
      ],
      "execution_count": 0,
      "outputs": []
    },
    {
      "cell_type": "code",
      "metadata": {
        "id": "AYAeYB-_s9hB",
        "colab_type": "code",
        "colab": {}
      },
      "source": [
        "data_lm = load_data('drive/My Drive/wine_reviews', file='data/region_clas_data_lm')\n",
        "data_clas = load_data('drive/My Drive/wine_reviews', file='data/region_clas_data_clas')"
      ],
      "execution_count": 0,
      "outputs": []
    },
    {
      "cell_type": "code",
      "metadata": {
        "id": "rY-4tydbtHsj",
        "colab_type": "code",
        "outputId": "142ca0bb-08e2-47e0-a9e4-88b3f823790f",
        "colab": {
          "base_uri": "https://localhost:8080/",
          "height": 1000
        }
      },
      "source": [
        "classifier = text_classifier_learner(data_clas, AWD_LSTM, drop_mult=0.5)\n",
        "classifier.load('region_classifier/fifth')"
      ],
      "execution_count": 0,
      "outputs": [
        {
          "output_type": "stream",
          "text": [
            "Downloading https://s3.amazonaws.com/fast-ai-modelzoo/wt103-fwd\n"
          ],
          "name": "stdout"
        },
        {
          "output_type": "display_data",
          "data": {
            "text/html": [
              ""
            ],
            "text/plain": [
              "<IPython.core.display.HTML object>"
            ]
          },
          "metadata": {
            "tags": []
          }
        },
        {
          "output_type": "execute_result",
          "data": {
            "text/plain": [
              "RNNLearner(data=TextClasDataBunch;\n",
              "\n",
              "Train: LabelList (86085 items)\n",
              "x: TextList\n",
              "xxbos xxmaj aromas include tropical fruit , broom , brimstone and dried herb . xxmaj the palate is n't overly expressive , offering unripened apple , citrus and dried sage alongside brisk acidity .,xxbos xxmaj tart and snappy , the flavors of lime flesh and rind dominate . xxmaj some green pineapple pokes through , with crisp acidity underscoring the flavors . xxmaj the wine was all stainless - steel fermented .,xxbos xxmaj pineapple rind , lemon pith and orange blossom start off the aromas . xxmaj the palate is a bit more opulent , with notes of honey - drizzled guava and mango giving way to a slightly astringent , semidry finish .,xxbos xxmaj much like the regular bottling from 2012 , this comes across as rather rough and tannic , with rustic , earthy , herbal characteristics . xxmaj nonetheless , if you think of it as a pleasantly unfussy country wine , it 's a good companion to a hearty winter stew .,xxbos xxmaj here 's a bright , informal red that opens with aromas of candied berry , white pepper and savory herb that carry over to the palate . xxmaj it 's balanced with fresh acidity and soft tannins .\n",
              "y: CategoryList\n",
              "Italy - Sicily & Sardinia,US - Oregon,US - Michigan,US - Oregon,Italy - Sicily & Sardinia\n",
              "Path: .;\n",
              "\n",
              "Valid: LabelList (9565 items)\n",
              "x: TextList\n",
              "xxbos xxmaj here 's a bright and delicious wine made with the native grape xxmaj frappato . xxmaj it opens with intense fruity aromas of crushed strawberry , xxmaj morello cherry and orange peel that continue on to the palate along with nutmeg , white pepper and vibrant acidity . xxmaj chill for 15 minutes for a perfect summer red .,xxbos xxmaj this light , fruity wine is a perfect summer apéritif . xxmaj with a crisp texture and attractive red fruit , it 's lively and refreshing . xxmaj drink now .,xxbos xxmaj this is a good price for a xxmaj cabernet this rich and satisfying . xxmaj it 's dry , tannic and opulent in blackberries , black currants and mocha , with a complex note of green olives . xxmaj it 's fully ready to drink now .,xxbos a bit of a letdown after a string of riper , more successful vintages . xxmaj feels sharp and somewhat herbal , with a hay or dried wheat edge to the black cherry and rhubarb fruit . xxmaj could just be going through a tough period , and might emerge on the other side in 5–6 years .,xxbos xxmaj here 's a fresh and luminous wine from xxmaj sicily to pair with fried finger foods and appetizers . xxmaj the wine is crisp and bright and utterly easy - going on both the nose and palate .\n",
              "y: CategoryList\n",
              "Italy - Sicily & Sardinia,France - France Other,US - California,US - California,Italy - Sicily & Sardinia\n",
              "Path: .;\n",
              "\n",
              "Test: None, model=SequentialRNN(\n",
              "  (0): MultiBatchEncoder(\n",
              "    (module): AWD_LSTM(\n",
              "      (encoder): Embedding(13680, 400, padding_idx=1)\n",
              "      (encoder_dp): EmbeddingDropout(\n",
              "        (emb): Embedding(13680, 400, padding_idx=1)\n",
              "      )\n",
              "      (rnns): ModuleList(\n",
              "        (0): WeightDropout(\n",
              "          (module): LSTM(400, 1152, batch_first=True)\n",
              "        )\n",
              "        (1): WeightDropout(\n",
              "          (module): LSTM(1152, 1152, batch_first=True)\n",
              "        )\n",
              "        (2): WeightDropout(\n",
              "          (module): LSTM(1152, 400, batch_first=True)\n",
              "        )\n",
              "      )\n",
              "      (input_dp): RNNDropout()\n",
              "      (hidden_dps): ModuleList(\n",
              "        (0): RNNDropout()\n",
              "        (1): RNNDropout()\n",
              "        (2): RNNDropout()\n",
              "      )\n",
              "    )\n",
              "  )\n",
              "  (1): PoolingLinearClassifier(\n",
              "    (layers): Sequential(\n",
              "      (0): BatchNorm1d(1200, eps=1e-05, momentum=0.1, affine=True, track_running_stats=True)\n",
              "      (1): Dropout(p=0.2, inplace=False)\n",
              "      (2): Linear(in_features=1200, out_features=50, bias=True)\n",
              "      (3): ReLU(inplace=True)\n",
              "      (4): BatchNorm1d(50, eps=1e-05, momentum=0.1, affine=True, track_running_stats=True)\n",
              "      (5): Dropout(p=0.1, inplace=False)\n",
              "      (6): Linear(in_features=50, out_features=27, bias=True)\n",
              "    )\n",
              "  )\n",
              "), opt_func=functools.partial(<class 'torch.optim.adam.Adam'>, betas=(0.9, 0.99)), loss_func=FlattenedLoss of CrossEntropyLoss(), metrics=[<function accuracy at 0x7f0ff5594d08>], true_wd=True, bn_wd=True, wd=0.01, train_bn=True, path=PosixPath('drive/My Drive/wine_reviews'), model_dir='models', callback_fns=[functools.partial(<class 'fastai.basic_train.Recorder'>, add_time=True, silent=False)], callbacks=[RNNTrainer\n",
              "learn: RNNLearner(data=TextClasDataBunch;\n",
              "\n",
              "Train: LabelList (86085 items)\n",
              "x: TextList\n",
              "xxbos xxmaj aromas include tropical fruit , broom , brimstone and dried herb . xxmaj the palate is n't overly expressive , offering unripened apple , citrus and dried sage alongside brisk acidity .,xxbos xxmaj tart and snappy , the flavors of lime flesh and rind dominate . xxmaj some green pineapple pokes through , with crisp acidity underscoring the flavors . xxmaj the wine was all stainless - steel fermented .,xxbos xxmaj pineapple rind , lemon pith and orange blossom start off the aromas . xxmaj the palate is a bit more opulent , with notes of honey - drizzled guava and mango giving way to a slightly astringent , semidry finish .,xxbos xxmaj much like the regular bottling from 2012 , this comes across as rather rough and tannic , with rustic , earthy , herbal characteristics . xxmaj nonetheless , if you think of it as a pleasantly unfussy country wine , it 's a good companion to a hearty winter stew .,xxbos xxmaj here 's a bright , informal red that opens with aromas of candied berry , white pepper and savory herb that carry over to the palate . xxmaj it 's balanced with fresh acidity and soft tannins .\n",
              "y: CategoryList\n",
              "Italy - Sicily & Sardinia,US - Oregon,US - Michigan,US - Oregon,Italy - Sicily & Sardinia\n",
              "Path: .;\n",
              "\n",
              "Valid: LabelList (9565 items)\n",
              "x: TextList\n",
              "xxbos xxmaj here 's a bright and delicious wine made with the native grape xxmaj frappato . xxmaj it opens with intense fruity aromas of crushed strawberry , xxmaj morello cherry and orange peel that continue on to the palate along with nutmeg , white pepper and vibrant acidity . xxmaj chill for 15 minutes for a perfect summer red .,xxbos xxmaj this light , fruity wine is a perfect summer apéritif . xxmaj with a crisp texture and attractive red fruit , it 's lively and refreshing . xxmaj drink now .,xxbos xxmaj this is a good price for a xxmaj cabernet this rich and satisfying . xxmaj it 's dry , tannic and opulent in blackberries , black currants and mocha , with a complex note of green olives . xxmaj it 's fully ready to drink now .,xxbos a bit of a letdown after a string of riper , more successful vintages . xxmaj feels sharp and somewhat herbal , with a hay or dried wheat edge to the black cherry and rhubarb fruit . xxmaj could just be going through a tough period , and might emerge on the other side in 5–6 years .,xxbos xxmaj here 's a fresh and luminous wine from xxmaj sicily to pair with fried finger foods and appetizers . xxmaj the wine is crisp and bright and utterly easy - going on both the nose and palate .\n",
              "y: CategoryList\n",
              "Italy - Sicily & Sardinia,France - France Other,US - California,US - California,Italy - Sicily & Sardinia\n",
              "Path: .;\n",
              "\n",
              "Test: None, model=SequentialRNN(\n",
              "  (0): MultiBatchEncoder(\n",
              "    (module): AWD_LSTM(\n",
              "      (encoder): Embedding(13680, 400, padding_idx=1)\n",
              "      (encoder_dp): EmbeddingDropout(\n",
              "        (emb): Embedding(13680, 400, padding_idx=1)\n",
              "      )\n",
              "      (rnns): ModuleList(\n",
              "        (0): WeightDropout(\n",
              "          (module): LSTM(400, 1152, batch_first=True)\n",
              "        )\n",
              "        (1): WeightDropout(\n",
              "          (module): LSTM(1152, 1152, batch_first=True)\n",
              "        )\n",
              "        (2): WeightDropout(\n",
              "          (module): LSTM(1152, 400, batch_first=True)\n",
              "        )\n",
              "      )\n",
              "      (input_dp): RNNDropout()\n",
              "      (hidden_dps): ModuleList(\n",
              "        (0): RNNDropout()\n",
              "        (1): RNNDropout()\n",
              "        (2): RNNDropout()\n",
              "      )\n",
              "    )\n",
              "  )\n",
              "  (1): PoolingLinearClassifier(\n",
              "    (layers): Sequential(\n",
              "      (0): BatchNorm1d(1200, eps=1e-05, momentum=0.1, affine=True, track_running_stats=True)\n",
              "      (1): Dropout(p=0.2, inplace=False)\n",
              "      (2): Linear(in_features=1200, out_features=50, bias=True)\n",
              "      (3): ReLU(inplace=True)\n",
              "      (4): BatchNorm1d(50, eps=1e-05, momentum=0.1, affine=True, track_running_stats=True)\n",
              "      (5): Dropout(p=0.1, inplace=False)\n",
              "      (6): Linear(in_features=50, out_features=27, bias=True)\n",
              "    )\n",
              "  )\n",
              "), opt_func=functools.partial(<class 'torch.optim.adam.Adam'>, betas=(0.9, 0.99)), loss_func=FlattenedLoss of CrossEntropyLoss(), metrics=[<function accuracy at 0x7f0ff5594d08>], true_wd=True, bn_wd=True, wd=0.01, train_bn=True, path=PosixPath('drive/My Drive/wine_reviews'), model_dir='models', callback_fns=[functools.partial(<class 'fastai.basic_train.Recorder'>, add_time=True, silent=False)], callbacks=[...], layer_groups=[Sequential(\n",
              "  (0): Embedding(13680, 400, padding_idx=1)\n",
              "  (1): EmbeddingDropout(\n",
              "    (emb): Embedding(13680, 400, padding_idx=1)\n",
              "  )\n",
              "), Sequential(\n",
              "  (0): WeightDropout(\n",
              "    (module): LSTM(400, 1152, batch_first=True)\n",
              "  )\n",
              "  (1): RNNDropout()\n",
              "), Sequential(\n",
              "  (0): WeightDropout(\n",
              "    (module): LSTM(1152, 1152, batch_first=True)\n",
              "  )\n",
              "  (1): RNNDropout()\n",
              "), Sequential(\n",
              "  (0): WeightDropout(\n",
              "    (module): LSTM(1152, 400, batch_first=True)\n",
              "  )\n",
              "  (1): RNNDropout()\n",
              "), Sequential(\n",
              "  (0): PoolingLinearClassifier(\n",
              "    (layers): Sequential(\n",
              "      (0): BatchNorm1d(1200, eps=1e-05, momentum=0.1, affine=True, track_running_stats=True)\n",
              "      (1): Dropout(p=0.2, inplace=False)\n",
              "      (2): Linear(in_features=1200, out_features=50, bias=True)\n",
              "      (3): ReLU(inplace=True)\n",
              "      (4): BatchNorm1d(50, eps=1e-05, momentum=0.1, affine=True, track_running_stats=True)\n",
              "      (5): Dropout(p=0.1, inplace=False)\n",
              "      (6): Linear(in_features=50, out_features=27, bias=True)\n",
              "    )\n",
              "  )\n",
              ")], add_time=True, silent=False)\n",
              "alpha: 2.0\n",
              "beta: 1.0], layer_groups=[Sequential(\n",
              "  (0): Embedding(13680, 400, padding_idx=1)\n",
              "  (1): EmbeddingDropout(\n",
              "    (emb): Embedding(13680, 400, padding_idx=1)\n",
              "  )\n",
              "), Sequential(\n",
              "  (0): WeightDropout(\n",
              "    (module): LSTM(400, 1152, batch_first=True)\n",
              "  )\n",
              "  (1): RNNDropout()\n",
              "), Sequential(\n",
              "  (0): WeightDropout(\n",
              "    (module): LSTM(1152, 1152, batch_first=True)\n",
              "  )\n",
              "  (1): RNNDropout()\n",
              "), Sequential(\n",
              "  (0): WeightDropout(\n",
              "    (module): LSTM(1152, 400, batch_first=True)\n",
              "  )\n",
              "  (1): RNNDropout()\n",
              "), Sequential(\n",
              "  (0): PoolingLinearClassifier(\n",
              "    (layers): Sequential(\n",
              "      (0): BatchNorm1d(1200, eps=1e-05, momentum=0.1, affine=True, track_running_stats=True)\n",
              "      (1): Dropout(p=0.2, inplace=False)\n",
              "      (2): Linear(in_features=1200, out_features=50, bias=True)\n",
              "      (3): ReLU(inplace=True)\n",
              "      (4): BatchNorm1d(50, eps=1e-05, momentum=0.1, affine=True, track_running_stats=True)\n",
              "      (5): Dropout(p=0.1, inplace=False)\n",
              "      (6): Linear(in_features=50, out_features=27, bias=True)\n",
              "    )\n",
              "  )\n",
              ")], add_time=True, silent=False)"
            ]
          },
          "metadata": {
            "tags": []
          },
          "execution_count": 3
        }
      ]
    },
    {
      "cell_type": "code",
      "metadata": {
        "id": "XhaRxKJntMOC",
        "colab_type": "code",
        "colab": {}
      },
      "source": [
        "lang_model = language_model_learner(data_lm, AWD_LSTM, drop_mult=0.3)"
      ],
      "execution_count": 0,
      "outputs": []
    },
    {
      "cell_type": "code",
      "metadata": {
        "id": "7z2jI1O_tYNp",
        "colab_type": "code",
        "outputId": "bec0af99-865c-4ab3-f860-a059b141adcc",
        "colab": {
          "base_uri": "https://localhost:8080/",
          "height": 1000
        }
      },
      "source": [
        "lang_model.load_encoder('regional_encoder')"
      ],
      "execution_count": 0,
      "outputs": [
        {
          "output_type": "execute_result",
          "data": {
            "text/plain": [
              "LanguageLearner(data=TextLMDataBunch;\n",
              "\n",
              "Train: LabelList (86085 items)\n",
              "x: LMTextList\n",
              "xxbos xxmaj aromas include tropical fruit , broom , brimstone and dried herb . xxmaj the palate is n't overly expressive , offering unripened apple , citrus and dried sage alongside brisk acidity .,xxbos xxmaj tart and snappy , the flavors of lime flesh and rind dominate . xxmaj some green pineapple pokes through , with crisp acidity underscoring the flavors . xxmaj the wine was all stainless - steel fermented .,xxbos xxmaj pineapple rind , lemon pith and orange blossom start off the aromas . xxmaj the palate is a bit more opulent , with notes of honey - drizzled guava and mango giving way to a slightly astringent , semidry finish .,xxbos xxmaj much like the regular bottling from 2012 , this comes across as rather rough and tannic , with rustic , earthy , herbal characteristics . xxmaj nonetheless , if you think of it as a pleasantly unfussy country wine , it 's a good companion to a hearty winter stew .,xxbos xxmaj here 's a bright , informal red that opens with aromas of candied berry , white pepper and savory herb that carry over to the palate . xxmaj it 's balanced with fresh acidity and soft tannins .\n",
              "y: LMLabelList\n",
              ",,,,\n",
              "Path: .;\n",
              "\n",
              "Valid: LabelList (9565 items)\n",
              "x: LMTextList\n",
              "xxbos xxmaj very xxunk xxmaj pinot xxmaj noir , even if not xxmaj burgundian , this is an earthy wine that is full of spice and secondary , mature flavors . xxmaj it is rich and impressively full while keeping the perfumed xxmaj pinot character . xxmaj the wine , from a portion of the xxmaj château xxmaj montus vineyard , is ready to drink .,xxbos a very dry , tannic wine , full of dense structure . xxmaj the fruit can be found underneath all this dryness , a layer of hedgerow blackberries , tight and firm . xxmaj at the end , there is some baked acidity .,xxbos xxmaj riserva xxmaj xxunk is a pure expression of xxmaj aglianico that has embraced the scorching heat of the 2003 vintage to deliver warm tones of jammy fruit , tar , asphalt , resin and natural spice . xxmaj the wine is broad and chewy in the mouth .,xxbos xxmaj this deep , dark and concentrated wine made by xxmaj alexandre xxmaj xxunk is big in every way — from the almost - black color to amped up aromas of dark chocolate and blackberry jam . xxmaj ripe blueberry and blackberry flavors coat the palate while a thick layer of soft - edged tannins shape the texture . xxmaj it 's not at all shy , and is a blast to drink with something grilled over open xxunk .,xxbos xxmaj this wine is a blend of 54 % xxmaj grenache ( xxmaj upland ) , 38 % xxmaj mourvèdre ( xxmaj boushey ) and 8 % xxmaj syrah ( xxmaj blue xxmaj mountain ) . xxmaj it shows pure aromas of green herbs , violets , raspberry , black pepper , orange peel and purple fruit . xxmaj the flavors are pretty , plump and pure , putting a focus on texture , with fruit flavors stretching out on the finish and an orange - peel note running throughout .\n",
              "y: LMLabelList\n",
              ",,,,\n",
              "Path: .;\n",
              "\n",
              "Test: None, model=SequentialRNN(\n",
              "  (0): AWD_LSTM(\n",
              "    (encoder): Embedding(13680, 400, padding_idx=1)\n",
              "    (encoder_dp): EmbeddingDropout(\n",
              "      (emb): Embedding(13680, 400, padding_idx=1)\n",
              "    )\n",
              "    (rnns): ModuleList(\n",
              "      (0): WeightDropout(\n",
              "        (module): LSTM(400, 1152, batch_first=True)\n",
              "      )\n",
              "      (1): WeightDropout(\n",
              "        (module): LSTM(1152, 1152, batch_first=True)\n",
              "      )\n",
              "      (2): WeightDropout(\n",
              "        (module): LSTM(1152, 400, batch_first=True)\n",
              "      )\n",
              "    )\n",
              "    (input_dp): RNNDropout()\n",
              "    (hidden_dps): ModuleList(\n",
              "      (0): RNNDropout()\n",
              "      (1): RNNDropout()\n",
              "      (2): RNNDropout()\n",
              "    )\n",
              "  )\n",
              "  (1): LinearDecoder(\n",
              "    (decoder): Linear(in_features=400, out_features=13680, bias=True)\n",
              "    (output_dp): RNNDropout()\n",
              "  )\n",
              "), opt_func=functools.partial(<class 'torch.optim.adam.Adam'>, betas=(0.9, 0.99)), loss_func=FlattenedLoss of CrossEntropyLoss(), metrics=[<function accuracy at 0x7f0ff5594d08>], true_wd=True, bn_wd=True, wd=0.01, train_bn=True, path=PosixPath('drive/My Drive/wine_reviews'), model_dir='models', callback_fns=[functools.partial(<class 'fastai.basic_train.Recorder'>, add_time=True, silent=False)], callbacks=[RNNTrainer\n",
              "learn: LanguageLearner(data=TextLMDataBunch;\n",
              "\n",
              "Train: LabelList (86085 items)\n",
              "x: LMTextList\n",
              "xxbos xxmaj aromas include tropical fruit , broom , brimstone and dried herb . xxmaj the palate is n't overly expressive , offering unripened apple , citrus and dried sage alongside brisk acidity .,xxbos xxmaj tart and snappy , the flavors of lime flesh and rind dominate . xxmaj some green pineapple pokes through , with crisp acidity underscoring the flavors . xxmaj the wine was all stainless - steel fermented .,xxbos xxmaj pineapple rind , lemon pith and orange blossom start off the aromas . xxmaj the palate is a bit more opulent , with notes of honey - drizzled guava and mango giving way to a slightly astringent , semidry finish .,xxbos xxmaj much like the regular bottling from 2012 , this comes across as rather rough and tannic , with rustic , earthy , herbal characteristics . xxmaj nonetheless , if you think of it as a pleasantly unfussy country wine , it 's a good companion to a hearty winter stew .,xxbos xxmaj here 's a bright , informal red that opens with aromas of candied berry , white pepper and savory herb that carry over to the palate . xxmaj it 's balanced with fresh acidity and soft tannins .\n",
              "y: LMLabelList\n",
              ",,,,\n",
              "Path: .;\n",
              "\n",
              "Valid: LabelList (9565 items)\n",
              "x: LMTextList\n",
              "xxbos xxmaj very xxunk xxmaj pinot xxmaj noir , even if not xxmaj burgundian , this is an earthy wine that is full of spice and secondary , mature flavors . xxmaj it is rich and impressively full while keeping the perfumed xxmaj pinot character . xxmaj the wine , from a portion of the xxmaj château xxmaj montus vineyard , is ready to drink .,xxbos a very dry , tannic wine , full of dense structure . xxmaj the fruit can be found underneath all this dryness , a layer of hedgerow blackberries , tight and firm . xxmaj at the end , there is some baked acidity .,xxbos xxmaj riserva xxmaj xxunk is a pure expression of xxmaj aglianico that has embraced the scorching heat of the 2003 vintage to deliver warm tones of jammy fruit , tar , asphalt , resin and natural spice . xxmaj the wine is broad and chewy in the mouth .,xxbos xxmaj this deep , dark and concentrated wine made by xxmaj alexandre xxmaj xxunk is big in every way — from the almost - black color to amped up aromas of dark chocolate and blackberry jam . xxmaj ripe blueberry and blackberry flavors coat the palate while a thick layer of soft - edged tannins shape the texture . xxmaj it 's not at all shy , and is a blast to drink with something grilled over open xxunk .,xxbos xxmaj this wine is a blend of 54 % xxmaj grenache ( xxmaj upland ) , 38 % xxmaj mourvèdre ( xxmaj boushey ) and 8 % xxmaj syrah ( xxmaj blue xxmaj mountain ) . xxmaj it shows pure aromas of green herbs , violets , raspberry , black pepper , orange peel and purple fruit . xxmaj the flavors are pretty , plump and pure , putting a focus on texture , with fruit flavors stretching out on the finish and an orange - peel note running throughout .\n",
              "y: LMLabelList\n",
              ",,,,\n",
              "Path: .;\n",
              "\n",
              "Test: None, model=SequentialRNN(\n",
              "  (0): AWD_LSTM(\n",
              "    (encoder): Embedding(13680, 400, padding_idx=1)\n",
              "    (encoder_dp): EmbeddingDropout(\n",
              "      (emb): Embedding(13680, 400, padding_idx=1)\n",
              "    )\n",
              "    (rnns): ModuleList(\n",
              "      (0): WeightDropout(\n",
              "        (module): LSTM(400, 1152, batch_first=True)\n",
              "      )\n",
              "      (1): WeightDropout(\n",
              "        (module): LSTM(1152, 1152, batch_first=True)\n",
              "      )\n",
              "      (2): WeightDropout(\n",
              "        (module): LSTM(1152, 400, batch_first=True)\n",
              "      )\n",
              "    )\n",
              "    (input_dp): RNNDropout()\n",
              "    (hidden_dps): ModuleList(\n",
              "      (0): RNNDropout()\n",
              "      (1): RNNDropout()\n",
              "      (2): RNNDropout()\n",
              "    )\n",
              "  )\n",
              "  (1): LinearDecoder(\n",
              "    (decoder): Linear(in_features=400, out_features=13680, bias=True)\n",
              "    (output_dp): RNNDropout()\n",
              "  )\n",
              "), opt_func=functools.partial(<class 'torch.optim.adam.Adam'>, betas=(0.9, 0.99)), loss_func=FlattenedLoss of CrossEntropyLoss(), metrics=[<function accuracy at 0x7f0ff5594d08>], true_wd=True, bn_wd=True, wd=0.01, train_bn=True, path=PosixPath('drive/My Drive/wine_reviews'), model_dir='models', callback_fns=[functools.partial(<class 'fastai.basic_train.Recorder'>, add_time=True, silent=False)], callbacks=[...], layer_groups=[Sequential(\n",
              "  (0): WeightDropout(\n",
              "    (module): LSTM(400, 1152, batch_first=True)\n",
              "  )\n",
              "  (1): RNNDropout()\n",
              "), Sequential(\n",
              "  (0): WeightDropout(\n",
              "    (module): LSTM(1152, 1152, batch_first=True)\n",
              "  )\n",
              "  (1): RNNDropout()\n",
              "), Sequential(\n",
              "  (0): WeightDropout(\n",
              "    (module): LSTM(1152, 400, batch_first=True)\n",
              "  )\n",
              "  (1): RNNDropout()\n",
              "), Sequential(\n",
              "  (0): Embedding(13680, 400, padding_idx=1)\n",
              "  (1): EmbeddingDropout(\n",
              "    (emb): Embedding(13680, 400, padding_idx=1)\n",
              "  )\n",
              "  (2): LinearDecoder(\n",
              "    (decoder): Linear(in_features=400, out_features=13680, bias=True)\n",
              "    (output_dp): RNNDropout()\n",
              "  )\n",
              ")], add_time=True, silent=False)\n",
              "alpha: 2.0\n",
              "beta: 1.0], layer_groups=[Sequential(\n",
              "  (0): WeightDropout(\n",
              "    (module): LSTM(400, 1152, batch_first=True)\n",
              "  )\n",
              "  (1): RNNDropout()\n",
              "), Sequential(\n",
              "  (0): WeightDropout(\n",
              "    (module): LSTM(1152, 1152, batch_first=True)\n",
              "  )\n",
              "  (1): RNNDropout()\n",
              "), Sequential(\n",
              "  (0): WeightDropout(\n",
              "    (module): LSTM(1152, 400, batch_first=True)\n",
              "  )\n",
              "  (1): RNNDropout()\n",
              "), Sequential(\n",
              "  (0): Embedding(13680, 400, padding_idx=1)\n",
              "  (1): EmbeddingDropout(\n",
              "    (emb): Embedding(13680, 400, padding_idx=1)\n",
              "  )\n",
              "  (2): LinearDecoder(\n",
              "    (decoder): Linear(in_features=400, out_features=13680, bias=True)\n",
              "    (output_dp): RNNDropout()\n",
              "  )\n",
              ")], add_time=True, silent=False)"
            ]
          },
          "metadata": {
            "tags": []
          },
          "execution_count": 5
        }
      ]
    },
    {
      "cell_type": "markdown",
      "metadata": {
        "id": "hNNhQDDd6k3E",
        "colab_type": "text"
      },
      "source": [
        "# Psuedo-GAN"
      ]
    },
    {
      "cell_type": "markdown",
      "metadata": {
        "id": "lrGyTd9Itex_",
        "colab_type": "text"
      },
      "source": [
        "Now we have loaded the models, lets define a simple loop to create our class descriptions.\n",
        "\n",
        "We are going to make 100 language model predictions per round and select the highest scoring overall phrase for the selected class."
      ]
    },
    {
      "cell_type": "code",
      "metadata": {
        "id": "WNfljnrmuop8",
        "colab_type": "code",
        "outputId": "818ed8ab-49a7-40aa-9191-cd457ae11433",
        "colab": {
          "base_uri": "https://localhost:8080/",
          "height": 34
        }
      },
      "source": [
        "#define selected class\n",
        "data_clas.classes[0]"
      ],
      "execution_count": 0,
      "outputs": [
        {
          "output_type": "execute_result",
          "data": {
            "text/plain": [
              "'France - Alsace'"
            ]
          },
          "metadata": {
            "tags": []
          },
          "execution_count": 10
        }
      ]
    },
    {
      "cell_type": "code",
      "metadata": {
        "id": "IRs52hqJtbMI",
        "colab_type": "code",
        "outputId": "f97b746d-d9fb-49f7-802f-863fde091168",
        "colab": {
          "base_uri": "https://localhost:8080/",
          "height": 34
        }
      },
      "source": [
        "base = 'Wine from this region'\n",
        "rounds = 5\n",
        "predictions_per_round = 100\n",
        "target_class_idx = 0\n",
        "\n",
        "for i in range(0, rounds):\n",
        "  text_preds = [lang_model.predict(base, 3) for x in range(0, predictions_per_round)]\n",
        "  target_class_preds = [classifier.predict(x)[2][target_class_idx] for x in text_preds]\n",
        "  base = [x for y,x in sorted(zip(target_class_preds, text_preds), reverse=True)][0]\n",
        "\n",
        "print(base)"
      ],
      "execution_count": 0,
      "outputs": [
        {
          "output_type": "stream",
          "text": [
            "Wine from this region , bone dry and bone dry , you 'll try to find Prosecco\n"
          ],
          "name": "stdout"
        }
      ]
    },
    {
      "cell_type": "markdown",
      "metadata": {
        "id": "LuIJlCVByLL_",
        "colab_type": "text"
      },
      "source": [
        "Doesn't make much sense, but the output seems to focus on dry wines. A quick check of the France - Alsace region wikipedia page suggests that it mainly produces dry white wines. "
      ]
    },
    {
      "cell_type": "code",
      "metadata": {
        "id": "yNpCC-gRylw5",
        "colab_type": "code",
        "outputId": "e09428e4-0d59-4def-c551-bdb76ed8a3ea",
        "colab": {
          "base_uri": "https://localhost:8080/",
          "height": 136
        }
      },
      "source": [
        "classifier.predict(base)"
      ],
      "execution_count": 0,
      "outputs": [
        {
          "output_type": "execute_result",
          "data": {
            "text/plain": [
              "(Category France - Alsace,\n",
              " tensor(0),\n",
              " tensor([9.9717e-01, 5.5278e-08, 5.7698e-09, 7.3604e-13, 9.5528e-08, 5.0648e-09,\n",
              "         1.3603e-16, 8.5859e-10, 2.4294e-10, 1.5693e-14, 3.0071e-08, 3.9155e-07,\n",
              "         1.9107e-06, 1.1499e-08, 3.0257e-08, 1.5858e-08, 3.0872e-09, 6.8109e-09,\n",
              "         1.7725e-08, 1.1407e-03, 1.6897e-03, 1.3916e-07, 3.0922e-12, 6.0380e-13,\n",
              "         6.7875e-08, 4.5105e-14, 2.6126e-07]))"
            ]
          },
          "metadata": {
            "tags": []
          },
          "execution_count": 28
        }
      ]
    },
    {
      "cell_type": "code",
      "metadata": {
        "id": "U6sf-MMCzER6",
        "colab_type": "code",
        "outputId": "b3813bb7-6266-4bb6-afcd-e7363f249bf4",
        "colab": {
          "base_uri": "https://localhost:8080/",
          "height": 34
        }
      },
      "source": [
        "base = 'This wine'\n",
        "rounds = 5\n",
        "predictions_per_round = 50\n",
        "target_class_idx = 7\n",
        "\n",
        "for i in range(0, rounds):\n",
        "  text_preds = [lang_model.predict(base, 3) for x in range(0, predictions_per_round)]\n",
        "  target_class_preds = [classifier.predict(x)[2][target_class_idx] for x in text_preds]\n",
        "  base = [x for y,x in sorted(zip(target_class_preds, text_preds), reverse=True)][0]\n",
        "\n",
        "print(base)"
      ],
      "execution_count": 0,
      "outputs": [
        {
          "output_type": "stream",
          "text": [
            "This wine , highly aromatic , with all five Xxbos Associated point Nouveau\n"
          ],
          "name": "stdout"
        }
      ]
    },
    {
      "cell_type": "code",
      "metadata": {
        "id": "vF5_Qt_XwEK7",
        "colab_type": "code",
        "outputId": "dc4cb4da-c30f-407d-fd51-6079a3757598",
        "colab": {
          "base_uri": "https://localhost:8080/",
          "height": 34
        }
      },
      "source": [
        "data_clas.classes[7]"
      ],
      "execution_count": 0,
      "outputs": [
        {
          "output_type": "execute_result",
          "data": {
            "text/plain": [
              "'France - Loire Valley'"
            ]
          },
          "metadata": {
            "tags": []
          },
          "execution_count": 30
        }
      ]
    },
    {
      "cell_type": "code",
      "metadata": {
        "id": "Li1ZFyxwzwM8",
        "colab_type": "code",
        "outputId": "63499dbd-ee18-4d94-d357-d95a54d93332",
        "colab": {
          "base_uri": "https://localhost:8080/",
          "height": 34
        }
      },
      "source": [
        "base = 'This wine'\n",
        "rounds = 5\n",
        "predictions_per_round = 50\n",
        "target_class_idx = 20\n",
        "\n",
        "for i in range(0, rounds):\n",
        "  text_preds = [lang_model.predict(base, 3) for x in range(0, predictions_per_round)]\n",
        "  target_class_preds = [classifier.predict(x)[2][target_class_idx] for x in text_preds]\n",
        "  base = [x for y,x in sorted(zip(target_class_preds, text_preds), reverse=True)][0]\n",
        "\n",
        "print(base)"
      ],
      "execution_count": 0,
      "outputs": [
        {
          "output_type": "stream",
          "text": [
            "This wine consistently produces basic Satisfy , while Lodi , Monterey\n"
          ],
          "name": "stdout"
        }
      ]
    },
    {
      "cell_type": "code",
      "metadata": {
        "id": "r3PE7NcF1aZi",
        "colab_type": "code",
        "outputId": "a7535c04-5fd2-438b-e136-6bbc27c84b96",
        "colab": {
          "base_uri": "https://localhost:8080/",
          "height": 34
        }
      },
      "source": [
        "data_clas.classes[20]"
      ],
      "execution_count": 0,
      "outputs": [
        {
          "output_type": "execute_result",
          "data": {
            "text/plain": [
              "'US - California'"
            ]
          },
          "metadata": {
            "tags": []
          },
          "execution_count": 32
        }
      ]
    },
    {
      "cell_type": "markdown",
      "metadata": {
        "id": "OB2gxMel1S5D",
        "colab_type": "text"
      },
      "source": [
        "This one picks up two regions/places in california "
      ]
    },
    {
      "cell_type": "code",
      "metadata": {
        "id": "XmL8xxDr4Y1x",
        "colab_type": "code",
        "colab": {}
      },
      "source": [
        ""
      ],
      "execution_count": 0,
      "outputs": []
    }
  ]
}