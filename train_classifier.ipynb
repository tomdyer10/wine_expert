{
  "nbformat": 4,
  "nbformat_minor": 0,
  "metadata": {
    "colab": {
      "name": "region_classification.ipynb",
      "provenance": [],
      "collapsed_sections": [],
      "toc_visible": true,
      "mount_file_id": "1FLTfOCHx2O3mPdeEynmbWsyJABG6zAIx",
      "authorship_tag": "ABX9TyOHDWNjsUC103s2h5i83V6P",
      "include_colab_link": true
    },
    "kernelspec": {
      "name": "python3",
      "display_name": "Python 3"
    },
    "accelerator": "GPU"
  },
  "cells": [
    {
      "cell_type": "markdown",
      "metadata": {
        "id": "view-in-github",
        "colab_type": "text"
      },
      "source": [
        "<a href=\"https://colab.research.google.com/github/tomdyer10/wine_expert/blob/master/train_classifier.ipynb\" target=\"_parent\"><img src=\"https://colab.research.google.com/assets/colab-badge.svg\" alt=\"Open In Colab\"/></a>"
      ]
    },
    {
      "cell_type": "markdown",
      "metadata": {
        "id": "aB7QDHAIzPPi",
        "colab_type": "text"
      },
      "source": [
        "Building a classification model to predict the 'country - region' of a wine based on the description of that wine. Model was built using the Fast AI API. For the purposes of this project, state of the art performance is not necessary, so I did not spend. too much time tuning performance.\n",
        "\n",
        "Data is from the Kaggle Wine Reviews dataset.\n",
        "\n",
        "Dataset had high cardinality so for the purpose of this exercise, classes were reduced to only countries and regions with a high number of examples in this dataset."
      ]
    },
    {
      "cell_type": "markdown",
      "metadata": {
        "id": "ULhKXMS8zXzR",
        "colab_type": "text"
      },
      "source": [
        "# Load & Process Data"
      ]
    },
    {
      "cell_type": "code",
      "metadata": {
        "id": "sBxIRxnazMb0",
        "colab_type": "code",
        "colab": {}
      },
      "source": [
        "%reload_ext autoreload\n",
        "%autoreload 2\n",
        "%matplotlib inline\n",
        "\n",
        "from fastai.text import *"
      ],
      "execution_count": 0,
      "outputs": []
    },
    {
      "cell_type": "code",
      "metadata": {
        "id": "wlytAnYGz7Xc",
        "colab_type": "code",
        "outputId": "7d2b0034-ce8f-4f02-fd54-d9b7f35e160f",
        "colab": {
          "base_uri": "https://localhost:8080/",
          "height": 632
        }
      },
      "source": [
        "import pandas as pd\n",
        "df = pd.read_csv('drive/My Drive/wine_reviews/data/winemag-data-130k-v2.csv', index_col=None)\n",
        "df = df.drop(['Unnamed: 0'], axis=1); df.head()"
      ],
      "execution_count": 2,
      "outputs": [
        {
          "output_type": "execute_result",
          "data": {
            "text/html": [
              "<div>\n",
              "<style scoped>\n",
              "    .dataframe tbody tr th:only-of-type {\n",
              "        vertical-align: middle;\n",
              "    }\n",
              "\n",
              "    .dataframe tbody tr th {\n",
              "        vertical-align: top;\n",
              "    }\n",
              "\n",
              "    .dataframe thead th {\n",
              "        text-align: right;\n",
              "    }\n",
              "</style>\n",
              "<table border=\"1\" class=\"dataframe\">\n",
              "  <thead>\n",
              "    <tr style=\"text-align: right;\">\n",
              "      <th></th>\n",
              "      <th>country</th>\n",
              "      <th>description</th>\n",
              "      <th>designation</th>\n",
              "      <th>points</th>\n",
              "      <th>price</th>\n",
              "      <th>province</th>\n",
              "      <th>region_1</th>\n",
              "      <th>region_2</th>\n",
              "      <th>taster_name</th>\n",
              "      <th>taster_twitter_handle</th>\n",
              "      <th>title</th>\n",
              "      <th>variety</th>\n",
              "      <th>winery</th>\n",
              "    </tr>\n",
              "  </thead>\n",
              "  <tbody>\n",
              "    <tr>\n",
              "      <th>0</th>\n",
              "      <td>Italy</td>\n",
              "      <td>Aromas include tropical fruit, broom, brimston...</td>\n",
              "      <td>Vulkà Bianco</td>\n",
              "      <td>87</td>\n",
              "      <td>NaN</td>\n",
              "      <td>Sicily &amp; Sardinia</td>\n",
              "      <td>Etna</td>\n",
              "      <td>NaN</td>\n",
              "      <td>Kerin O’Keefe</td>\n",
              "      <td>@kerinokeefe</td>\n",
              "      <td>Nicosia 2013 Vulkà Bianco  (Etna)</td>\n",
              "      <td>White Blend</td>\n",
              "      <td>Nicosia</td>\n",
              "    </tr>\n",
              "    <tr>\n",
              "      <th>1</th>\n",
              "      <td>Portugal</td>\n",
              "      <td>This is ripe and fruity, a wine that is smooth...</td>\n",
              "      <td>Avidagos</td>\n",
              "      <td>87</td>\n",
              "      <td>15.0</td>\n",
              "      <td>Douro</td>\n",
              "      <td>NaN</td>\n",
              "      <td>NaN</td>\n",
              "      <td>Roger Voss</td>\n",
              "      <td>@vossroger</td>\n",
              "      <td>Quinta dos Avidagos 2011 Avidagos Red (Douro)</td>\n",
              "      <td>Portuguese Red</td>\n",
              "      <td>Quinta dos Avidagos</td>\n",
              "    </tr>\n",
              "    <tr>\n",
              "      <th>2</th>\n",
              "      <td>US</td>\n",
              "      <td>Tart and snappy, the flavors of lime flesh and...</td>\n",
              "      <td>NaN</td>\n",
              "      <td>87</td>\n",
              "      <td>14.0</td>\n",
              "      <td>Oregon</td>\n",
              "      <td>Willamette Valley</td>\n",
              "      <td>Willamette Valley</td>\n",
              "      <td>Paul Gregutt</td>\n",
              "      <td>@paulgwine</td>\n",
              "      <td>Rainstorm 2013 Pinot Gris (Willamette Valley)</td>\n",
              "      <td>Pinot Gris</td>\n",
              "      <td>Rainstorm</td>\n",
              "    </tr>\n",
              "    <tr>\n",
              "      <th>3</th>\n",
              "      <td>US</td>\n",
              "      <td>Pineapple rind, lemon pith and orange blossom ...</td>\n",
              "      <td>Reserve Late Harvest</td>\n",
              "      <td>87</td>\n",
              "      <td>13.0</td>\n",
              "      <td>Michigan</td>\n",
              "      <td>Lake Michigan Shore</td>\n",
              "      <td>NaN</td>\n",
              "      <td>Alexander Peartree</td>\n",
              "      <td>NaN</td>\n",
              "      <td>St. Julian 2013 Reserve Late Harvest Riesling ...</td>\n",
              "      <td>Riesling</td>\n",
              "      <td>St. Julian</td>\n",
              "    </tr>\n",
              "    <tr>\n",
              "      <th>4</th>\n",
              "      <td>US</td>\n",
              "      <td>Much like the regular bottling from 2012, this...</td>\n",
              "      <td>Vintner's Reserve Wild Child Block</td>\n",
              "      <td>87</td>\n",
              "      <td>65.0</td>\n",
              "      <td>Oregon</td>\n",
              "      <td>Willamette Valley</td>\n",
              "      <td>Willamette Valley</td>\n",
              "      <td>Paul Gregutt</td>\n",
              "      <td>@paulgwine</td>\n",
              "      <td>Sweet Cheeks 2012 Vintner's Reserve Wild Child...</td>\n",
              "      <td>Pinot Noir</td>\n",
              "      <td>Sweet Cheeks</td>\n",
              "    </tr>\n",
              "  </tbody>\n",
              "</table>\n",
              "</div>"
            ],
            "text/plain": [
              "    country  ...               winery\n",
              "0     Italy  ...              Nicosia\n",
              "1  Portugal  ...  Quinta dos Avidagos\n",
              "2        US  ...            Rainstorm\n",
              "3        US  ...           St. Julian\n",
              "4        US  ...         Sweet Cheeks\n",
              "\n",
              "[5 rows x 13 columns]"
            ]
          },
          "metadata": {
            "tags": []
          },
          "execution_count": 2
        }
      ]
    },
    {
      "cell_type": "code",
      "metadata": {
        "id": "iRJExj-Y0Fe9",
        "colab_type": "code",
        "colab": {
          "base_uri": "https://localhost:8080/",
          "height": 85
        },
        "outputId": "41792ba0-57de-4905-ef3e-b535bbdee2dc"
      },
      "source": [
        "#filter to only countries with over 10k wines in dataset  \n",
        "df1 =  df[df['country'].map(df['country'].value_counts()) > 10000]\n",
        "df1['country'].value_counts()"
      ],
      "execution_count": 3,
      "outputs": [
        {
          "output_type": "execute_result",
          "data": {
            "text/plain": [
              "US        54504\n",
              "France    22093\n",
              "Italy     19540\n",
              "Name: country, dtype: int64"
            ]
          },
          "metadata": {
            "tags": []
          },
          "execution_count": 3
        }
      ]
    },
    {
      "cell_type": "code",
      "metadata": {
        "id": "a2_oOPmP9euk",
        "colab_type": "code",
        "colab": {}
      },
      "source": [
        "df1 = df1.dropna(axis=1).reset_index(drop=True)\n"
      ],
      "execution_count": 0,
      "outputs": []
    },
    {
      "cell_type": "markdown",
      "metadata": {
        "id": "qlQ9cw5c57qG",
        "colab_type": "text"
      },
      "source": [
        "Creating a new category, a combination of country and wine province and only returning categories with more than 100 items."
      ]
    },
    {
      "cell_type": "code",
      "metadata": {
        "id": "7pDBuaav1XZj",
        "colab_type": "code",
        "colab": {}
      },
      "source": [
        "import numpy as np\n",
        "\n",
        "def categorise(country, province):\n",
        "  str_ = country + ' - ' + province\n",
        "  return str_\n",
        "\n",
        "df1['category'] = np.vectorize(categorise)(df1['country'], df1['province'])\n",
        "df1['category'].value_counts()\n",
        "\n",
        "df2 =  df1[df1['category'].map(df1['category'].value_counts()) > 100]"
      ],
      "execution_count": 0,
      "outputs": []
    },
    {
      "cell_type": "code",
      "metadata": {
        "id": "LmlfNsVlX-gr",
        "colab_type": "code",
        "outputId": "4b58aed6-d2e4-4e15-c5f2-54af16be3f70",
        "colab": {
          "base_uri": "https://localhost:8080/",
          "height": 204
        }
      },
      "source": [
        "df_cat = df2[['description', 'category']]\n",
        "df_cat.columns = ['text', 'target']; df_cat.head()"
      ],
      "execution_count": 8,
      "outputs": [
        {
          "output_type": "execute_result",
          "data": {
            "text/html": [
              "<div>\n",
              "<style scoped>\n",
              "    .dataframe tbody tr th:only-of-type {\n",
              "        vertical-align: middle;\n",
              "    }\n",
              "\n",
              "    .dataframe tbody tr th {\n",
              "        vertical-align: top;\n",
              "    }\n",
              "\n",
              "    .dataframe thead th {\n",
              "        text-align: right;\n",
              "    }\n",
              "</style>\n",
              "<table border=\"1\" class=\"dataframe\">\n",
              "  <thead>\n",
              "    <tr style=\"text-align: right;\">\n",
              "      <th></th>\n",
              "      <th>text</th>\n",
              "      <th>target</th>\n",
              "    </tr>\n",
              "  </thead>\n",
              "  <tbody>\n",
              "    <tr>\n",
              "      <th>0</th>\n",
              "      <td>Aromas include tropical fruit, broom, brimston...</td>\n",
              "      <td>Italy - Sicily &amp; Sardinia</td>\n",
              "    </tr>\n",
              "    <tr>\n",
              "      <th>1</th>\n",
              "      <td>Tart and snappy, the flavors of lime flesh and...</td>\n",
              "      <td>US - Oregon</td>\n",
              "    </tr>\n",
              "    <tr>\n",
              "      <th>2</th>\n",
              "      <td>Pineapple rind, lemon pith and orange blossom ...</td>\n",
              "      <td>US - Michigan</td>\n",
              "    </tr>\n",
              "    <tr>\n",
              "      <th>3</th>\n",
              "      <td>Much like the regular bottling from 2012, this...</td>\n",
              "      <td>US - Oregon</td>\n",
              "    </tr>\n",
              "    <tr>\n",
              "      <th>4</th>\n",
              "      <td>Here's a bright, informal red that opens with ...</td>\n",
              "      <td>Italy - Sicily &amp; Sardinia</td>\n",
              "    </tr>\n",
              "  </tbody>\n",
              "</table>\n",
              "</div>"
            ],
            "text/plain": [
              "                                                text                     target\n",
              "0  Aromas include tropical fruit, broom, brimston...  Italy - Sicily & Sardinia\n",
              "1  Tart and snappy, the flavors of lime flesh and...                US - Oregon\n",
              "2  Pineapple rind, lemon pith and orange blossom ...              US - Michigan\n",
              "3  Much like the regular bottling from 2012, this...                US - Oregon\n",
              "4  Here's a bright, informal red that opens with ...  Italy - Sicily & Sardinia"
            ]
          },
          "metadata": {
            "tags": []
          },
          "execution_count": 8
        }
      ]
    },
    {
      "cell_type": "code",
      "metadata": {
        "id": "-iBQiwiEYSpV",
        "colab_type": "code",
        "outputId": "e9743eae-afbb-437c-9edb-a9255e49aacc",
        "colab": {
          "base_uri": "https://localhost:8080/",
          "height": 34
        }
      },
      "source": [
        "df_cat['target'].nunique()"
      ],
      "execution_count": 9,
      "outputs": [
        {
          "output_type": "execute_result",
          "data": {
            "text/plain": [
              "27"
            ]
          },
          "metadata": {
            "tags": []
          },
          "execution_count": 9
        }
      ]
    },
    {
      "cell_type": "code",
      "metadata": {
        "id": "hQZMhLck6b3W",
        "colab_type": "code",
        "colab": {
          "base_uri": "https://localhost:8080/",
          "height": 34
        },
        "outputId": "af2ccdff-039c-4618-c703-2a41c815c324"
      },
      "source": [
        "df_cat.shape"
      ],
      "execution_count": 10,
      "outputs": [
        {
          "output_type": "execute_result",
          "data": {
            "text/plain": [
              "(95650, 2)"
            ]
          },
          "metadata": {
            "tags": []
          },
          "execution_count": 10
        }
      ]
    },
    {
      "cell_type": "markdown",
      "metadata": {
        "id": "ctSKmvDt6Y9M",
        "colab_type": "text"
      },
      "source": [
        "We now have a dataset ready for training, with 95,650 wine descriptions assigned to 27 different categories"
      ]
    },
    {
      "cell_type": "markdown",
      "metadata": {
        "id": "e3MjzVGEvgu6",
        "colab_type": "text"
      },
      "source": [
        "# Language Model"
      ]
    },
    {
      "cell_type": "markdown",
      "metadata": {
        "id": "iMUeHVYi6u_-",
        "colab_type": "text"
      },
      "source": [
        "Training a language model using the FastAI API"
      ]
    },
    {
      "cell_type": "code",
      "metadata": {
        "id": "R5R89aO_vnNF",
        "colab_type": "code",
        "outputId": "70ed3c60-bf11-48e0-a39d-825fa86ac252",
        "colab": {
          "base_uri": "https://localhost:8080/",
          "height": 17
        }
      },
      "source": [
        "#make databunch for language model\n",
        "seed = 42\n",
        "data = (TextList.from_df(df_cat,).split_by_rand_pct(0.1, seed).label_for_lm().databunch(bs=24))"
      ],
      "execution_count": 11,
      "outputs": [
        {
          "output_type": "display_data",
          "data": {
            "text/html": [
              ""
            ],
            "text/plain": [
              "<IPython.core.display.HTML object>"
            ]
          },
          "metadata": {
            "tags": []
          }
        },
        {
          "output_type": "display_data",
          "data": {
            "text/html": [
              ""
            ],
            "text/plain": [
              "<IPython.core.display.HTML object>"
            ]
          },
          "metadata": {
            "tags": []
          }
        }
      ]
    },
    {
      "cell_type": "code",
      "metadata": {
        "id": "PygQmCc866Ew",
        "colab_type": "code",
        "colab": {
          "base_uri": "https://localhost:8080/",
          "height": 145
        },
        "outputId": "9ce7e219-39af-42ca-d029-e72e8d9bb6ca"
      },
      "source": [
        "data.show_batch(2)"
      ],
      "execution_count": 12,
      "outputs": [
        {
          "output_type": "display_data",
          "data": {
            "text/html": [
              "<table border=\"1\" class=\"dataframe\">\n",
              "  <thead>\n",
              "    <tr style=\"text-align: right;\">\n",
              "      <th>idx</th>\n",
              "      <th>text</th>\n",
              "    </tr>\n",
              "  </thead>\n",
              "  <tbody>\n",
              "    <tr>\n",
              "      <td>0</td>\n",
              "      <td>steel fermented . xxbos xxmaj pineapple rind , lemon pith and orange blossom start off the aromas . xxmaj the palate is a bit more opulent , with notes of honey - drizzled guava and mango giving way to a slightly astringent , semidry finish . xxbos xxmaj much like the regular bottling from 2012 , this comes across as rather rough and tannic , with rustic , earthy ,</td>\n",
              "    </tr>\n",
              "    <tr>\n",
              "      <td>1</td>\n",
              "      <td>just a bit too heavy for the wine that 's in the glass . xxbos xxmaj fermented and aged in stainless steel , this is a lightly aromatic xxmaj gris with red apple and apple blossom . xxmaj it 's full bodied with a touch of residual sugar and a zip of acidity . a light ale note makes it seem not entirely finished . xxbos xxmaj the 2010 xxmaj</td>\n",
              "    </tr>\n",
              "  </tbody>\n",
              "</table>"
            ],
            "text/plain": [
              "<IPython.core.display.HTML object>"
            ]
          },
          "metadata": {
            "tags": []
          }
        }
      ]
    },
    {
      "cell_type": "code",
      "metadata": {
        "id": "VEfk8uavvwAj",
        "colab_type": "code",
        "outputId": "c6d3d440-555b-45b4-e6b6-c87034554fab",
        "colab": {
          "base_uri": "https://localhost:8080/",
          "height": 34
        }
      },
      "source": [
        "learner = language_model_learner(data, AWD_LSTM, drop_mult=0.3)"
      ],
      "execution_count": 13,
      "outputs": [
        {
          "output_type": "stream",
          "text": [
            "Downloading https://s3.amazonaws.com/fast-ai-modelzoo/wt103-fwd\n"
          ],
          "name": "stdout"
        },
        {
          "output_type": "display_data",
          "data": {
            "text/html": [
              ""
            ],
            "text/plain": [
              "<IPython.core.display.HTML object>"
            ]
          },
          "metadata": {
            "tags": []
          }
        }
      ]
    },
    {
      "cell_type": "code",
      "metadata": {
        "id": "szbIJGm_v4kf",
        "colab_type": "code",
        "colab": {}
      },
      "source": [
        "# learner.fit_one_cycle(2, 1e-2, moms=(0.8,0.7))"
      ],
      "execution_count": 0,
      "outputs": []
    },
    {
      "cell_type": "code",
      "metadata": {
        "id": "VUSiiV-y54KL",
        "colab_type": "code",
        "colab": {}
      },
      "source": [
        "# learner.fit_one_cycle(5, 1e-3, moms=(0.8,0.7))"
      ],
      "execution_count": 0,
      "outputs": []
    },
    {
      "cell_type": "markdown",
      "metadata": {
        "id": "Hs4-_Idc7AxA",
        "colab_type": "text"
      },
      "source": [
        "Model achieved performance of over 40%, this is a good performance for a model of this type so I did not perform any further training."
      ]
    },
    {
      "cell_type": "code",
      "metadata": {
        "id": "LbvAw9616jNG",
        "colab_type": "code",
        "colab": {}
      },
      "source": [
        "#save to notebook instance and my google drive\n",
        "# learner.save_encoder('regional_encoder')\n",
        "# learner.save_encoder('../drive/My Drive/wine_reviews/models/regional_encoder')"
      ],
      "execution_count": 0,
      "outputs": []
    },
    {
      "cell_type": "markdown",
      "metadata": {
        "id": "EA5X3SVV7VII",
        "colab_type": "text"
      },
      "source": [
        "Load saved model from drive"
      ]
    },
    {
      "cell_type": "code",
      "metadata": {
        "id": "tnDQlFChu0dC",
        "colab_type": "code",
        "outputId": "f770008f-74fb-4ab5-f59b-3b9411297ecd",
        "colab": {
          "base_uri": "https://localhost:8080/",
          "height": 1000
        }
      },
      "source": [
        "learner.load_encoder('../drive/My Drive/wine_reviews/models/regional_encoder')"
      ],
      "execution_count": 15,
      "outputs": [
        {
          "output_type": "execute_result",
          "data": {
            "text/plain": [
              "LanguageLearner(data=TextLMDataBunch;\n",
              "\n",
              "Train: LabelList (86085 items)\n",
              "x: LMTextList\n",
              "xxbos xxmaj aromas include tropical fruit , broom , brimstone and dried herb . xxmaj the palate is n't overly expressive , offering unripened apple , citrus and dried sage alongside brisk acidity .,xxbos xxmaj tart and snappy , the flavors of lime flesh and rind dominate . xxmaj some green pineapple pokes through , with crisp acidity underscoring the flavors . xxmaj the wine was all stainless - steel fermented .,xxbos xxmaj pineapple rind , lemon pith and orange blossom start off the aromas . xxmaj the palate is a bit more opulent , with notes of honey - drizzled guava and mango giving way to a slightly astringent , semidry finish .,xxbos xxmaj much like the regular bottling from 2012 , this comes across as rather rough and tannic , with rustic , earthy , herbal characteristics . xxmaj nonetheless , if you think of it as a pleasantly unfussy country wine , it 's a good companion to a hearty winter stew .,xxbos xxmaj here 's a bright , informal red that opens with aromas of candied berry , white pepper and savory herb that carry over to the palate . xxmaj it 's balanced with fresh acidity and soft tannins .\n",
              "y: LMLabelList\n",
              ",,,,\n",
              "Path: .;\n",
              "\n",
              "Valid: LabelList (9565 items)\n",
              "x: LMTextList\n",
              "xxbos xxmaj very xxunk xxmaj pinot xxmaj noir , even if not xxmaj burgundian , this is an earthy wine that is full of spice and secondary , mature flavors . xxmaj it is rich and impressively full while keeping the perfumed xxmaj pinot character . xxmaj the wine , from a portion of the xxmaj château xxmaj montus vineyard , is ready to drink .,xxbos a very dry , tannic wine , full of dense structure . xxmaj the fruit can be found underneath all this dryness , a layer of hedgerow blackberries , tight and firm . xxmaj at the end , there is some baked acidity .,xxbos xxmaj riserva xxmaj xxunk is a pure expression of xxmaj aglianico that has embraced the scorching heat of the 2003 vintage to deliver warm tones of jammy fruit , tar , asphalt , resin and natural spice . xxmaj the wine is broad and chewy in the mouth .,xxbos xxmaj this deep , dark and concentrated wine made by xxmaj alexandre xxmaj xxunk is big in every way — from the almost - black color to amped up aromas of dark chocolate and blackberry jam . xxmaj ripe blueberry and blackberry flavors coat the palate while a thick layer of soft - edged tannins shape the texture . xxmaj it 's not at all shy , and is a blast to drink with something grilled over open xxunk .,xxbos xxmaj this wine is a blend of 54 % xxmaj grenache ( xxmaj upland ) , 38 % xxmaj mourvèdre ( xxmaj boushey ) and 8 % xxmaj syrah ( xxmaj blue xxmaj mountain ) . xxmaj it shows pure aromas of green herbs , violets , raspberry , black pepper , orange peel and purple fruit . xxmaj the flavors are pretty , plump and pure , putting a focus on texture , with fruit flavors stretching out on the finish and an orange - peel note running throughout .\n",
              "y: LMLabelList\n",
              ",,,,\n",
              "Path: .;\n",
              "\n",
              "Test: None, model=SequentialRNN(\n",
              "  (0): AWD_LSTM(\n",
              "    (encoder): Embedding(13680, 400, padding_idx=1)\n",
              "    (encoder_dp): EmbeddingDropout(\n",
              "      (emb): Embedding(13680, 400, padding_idx=1)\n",
              "    )\n",
              "    (rnns): ModuleList(\n",
              "      (0): WeightDropout(\n",
              "        (module): LSTM(400, 1152, batch_first=True)\n",
              "      )\n",
              "      (1): WeightDropout(\n",
              "        (module): LSTM(1152, 1152, batch_first=True)\n",
              "      )\n",
              "      (2): WeightDropout(\n",
              "        (module): LSTM(1152, 400, batch_first=True)\n",
              "      )\n",
              "    )\n",
              "    (input_dp): RNNDropout()\n",
              "    (hidden_dps): ModuleList(\n",
              "      (0): RNNDropout()\n",
              "      (1): RNNDropout()\n",
              "      (2): RNNDropout()\n",
              "    )\n",
              "  )\n",
              "  (1): LinearDecoder(\n",
              "    (decoder): Linear(in_features=400, out_features=13680, bias=True)\n",
              "    (output_dp): RNNDropout()\n",
              "  )\n",
              "), opt_func=functools.partial(<class 'torch.optim.adam.Adam'>, betas=(0.9, 0.99)), loss_func=FlattenedLoss of CrossEntropyLoss(), metrics=[<function accuracy at 0x7fa748d5b6a8>], true_wd=True, bn_wd=True, wd=0.01, train_bn=True, path=PosixPath('.'), model_dir='models', callback_fns=[functools.partial(<class 'fastai.basic_train.Recorder'>, add_time=True, silent=False)], callbacks=[RNNTrainer\n",
              "learn: LanguageLearner(data=TextLMDataBunch;\n",
              "\n",
              "Train: LabelList (86085 items)\n",
              "x: LMTextList\n",
              "xxbos xxmaj aromas include tropical fruit , broom , brimstone and dried herb . xxmaj the palate is n't overly expressive , offering unripened apple , citrus and dried sage alongside brisk acidity .,xxbos xxmaj tart and snappy , the flavors of lime flesh and rind dominate . xxmaj some green pineapple pokes through , with crisp acidity underscoring the flavors . xxmaj the wine was all stainless - steel fermented .,xxbos xxmaj pineapple rind , lemon pith and orange blossom start off the aromas . xxmaj the palate is a bit more opulent , with notes of honey - drizzled guava and mango giving way to a slightly astringent , semidry finish .,xxbos xxmaj much like the regular bottling from 2012 , this comes across as rather rough and tannic , with rustic , earthy , herbal characteristics . xxmaj nonetheless , if you think of it as a pleasantly unfussy country wine , it 's a good companion to a hearty winter stew .,xxbos xxmaj here 's a bright , informal red that opens with aromas of candied berry , white pepper and savory herb that carry over to the palate . xxmaj it 's balanced with fresh acidity and soft tannins .\n",
              "y: LMLabelList\n",
              ",,,,\n",
              "Path: .;\n",
              "\n",
              "Valid: LabelList (9565 items)\n",
              "x: LMTextList\n",
              "xxbos xxmaj very xxunk xxmaj pinot xxmaj noir , even if not xxmaj burgundian , this is an earthy wine that is full of spice and secondary , mature flavors . xxmaj it is rich and impressively full while keeping the perfumed xxmaj pinot character . xxmaj the wine , from a portion of the xxmaj château xxmaj montus vineyard , is ready to drink .,xxbos a very dry , tannic wine , full of dense structure . xxmaj the fruit can be found underneath all this dryness , a layer of hedgerow blackberries , tight and firm . xxmaj at the end , there is some baked acidity .,xxbos xxmaj riserva xxmaj xxunk is a pure expression of xxmaj aglianico that has embraced the scorching heat of the 2003 vintage to deliver warm tones of jammy fruit , tar , asphalt , resin and natural spice . xxmaj the wine is broad and chewy in the mouth .,xxbos xxmaj this deep , dark and concentrated wine made by xxmaj alexandre xxmaj xxunk is big in every way — from the almost - black color to amped up aromas of dark chocolate and blackberry jam . xxmaj ripe blueberry and blackberry flavors coat the palate while a thick layer of soft - edged tannins shape the texture . xxmaj it 's not at all shy , and is a blast to drink with something grilled over open xxunk .,xxbos xxmaj this wine is a blend of 54 % xxmaj grenache ( xxmaj upland ) , 38 % xxmaj mourvèdre ( xxmaj boushey ) and 8 % xxmaj syrah ( xxmaj blue xxmaj mountain ) . xxmaj it shows pure aromas of green herbs , violets , raspberry , black pepper , orange peel and purple fruit . xxmaj the flavors are pretty , plump and pure , putting a focus on texture , with fruit flavors stretching out on the finish and an orange - peel note running throughout .\n",
              "y: LMLabelList\n",
              ",,,,\n",
              "Path: .;\n",
              "\n",
              "Test: None, model=SequentialRNN(\n",
              "  (0): AWD_LSTM(\n",
              "    (encoder): Embedding(13680, 400, padding_idx=1)\n",
              "    (encoder_dp): EmbeddingDropout(\n",
              "      (emb): Embedding(13680, 400, padding_idx=1)\n",
              "    )\n",
              "    (rnns): ModuleList(\n",
              "      (0): WeightDropout(\n",
              "        (module): LSTM(400, 1152, batch_first=True)\n",
              "      )\n",
              "      (1): WeightDropout(\n",
              "        (module): LSTM(1152, 1152, batch_first=True)\n",
              "      )\n",
              "      (2): WeightDropout(\n",
              "        (module): LSTM(1152, 400, batch_first=True)\n",
              "      )\n",
              "    )\n",
              "    (input_dp): RNNDropout()\n",
              "    (hidden_dps): ModuleList(\n",
              "      (0): RNNDropout()\n",
              "      (1): RNNDropout()\n",
              "      (2): RNNDropout()\n",
              "    )\n",
              "  )\n",
              "  (1): LinearDecoder(\n",
              "    (decoder): Linear(in_features=400, out_features=13680, bias=True)\n",
              "    (output_dp): RNNDropout()\n",
              "  )\n",
              "), opt_func=functools.partial(<class 'torch.optim.adam.Adam'>, betas=(0.9, 0.99)), loss_func=FlattenedLoss of CrossEntropyLoss(), metrics=[<function accuracy at 0x7fa748d5b6a8>], true_wd=True, bn_wd=True, wd=0.01, train_bn=True, path=PosixPath('.'), model_dir='models', callback_fns=[functools.partial(<class 'fastai.basic_train.Recorder'>, add_time=True, silent=False)], callbacks=[...], layer_groups=[Sequential(\n",
              "  (0): WeightDropout(\n",
              "    (module): LSTM(400, 1152, batch_first=True)\n",
              "  )\n",
              "  (1): RNNDropout()\n",
              "), Sequential(\n",
              "  (0): WeightDropout(\n",
              "    (module): LSTM(1152, 1152, batch_first=True)\n",
              "  )\n",
              "  (1): RNNDropout()\n",
              "), Sequential(\n",
              "  (0): WeightDropout(\n",
              "    (module): LSTM(1152, 400, batch_first=True)\n",
              "  )\n",
              "  (1): RNNDropout()\n",
              "), Sequential(\n",
              "  (0): Embedding(13680, 400, padding_idx=1)\n",
              "  (1): EmbeddingDropout(\n",
              "    (emb): Embedding(13680, 400, padding_idx=1)\n",
              "  )\n",
              "  (2): LinearDecoder(\n",
              "    (decoder): Linear(in_features=400, out_features=13680, bias=True)\n",
              "    (output_dp): RNNDropout()\n",
              "  )\n",
              ")], add_time=True, silent=False)\n",
              "alpha: 2.0\n",
              "beta: 1.0], layer_groups=[Sequential(\n",
              "  (0): WeightDropout(\n",
              "    (module): LSTM(400, 1152, batch_first=True)\n",
              "  )\n",
              "  (1): RNNDropout()\n",
              "), Sequential(\n",
              "  (0): WeightDropout(\n",
              "    (module): LSTM(1152, 1152, batch_first=True)\n",
              "  )\n",
              "  (1): RNNDropout()\n",
              "), Sequential(\n",
              "  (0): WeightDropout(\n",
              "    (module): LSTM(1152, 400, batch_first=True)\n",
              "  )\n",
              "  (1): RNNDropout()\n",
              "), Sequential(\n",
              "  (0): Embedding(13680, 400, padding_idx=1)\n",
              "  (1): EmbeddingDropout(\n",
              "    (emb): Embedding(13680, 400, padding_idx=1)\n",
              "  )\n",
              "  (2): LinearDecoder(\n",
              "    (decoder): Linear(in_features=400, out_features=13680, bias=True)\n",
              "    (output_dp): RNNDropout()\n",
              "  )\n",
              ")], add_time=True, silent=False)"
            ]
          },
          "metadata": {
            "tags": []
          },
          "execution_count": 15
        }
      ]
    },
    {
      "cell_type": "markdown",
      "metadata": {
        "id": "IzpIe6X9yBoj",
        "colab_type": "text"
      },
      "source": [
        "Testing language model predictions when given a preceding phrase, temperature set to 0.75 to give some randomness in response."
      ]
    },
    {
      "cell_type": "code",
      "metadata": {
        "id": "PvFfKak-yD3Q",
        "colab_type": "code",
        "outputId": "348604ef-edaf-4855-dc4e-f35d6f278b21",
        "colab": {
          "base_uri": "https://localhost:8080/",
          "height": 54
        }
      },
      "source": [
        "TEXT = \"This french red wine\"\n",
        "N_WORDS = 40\n",
        "N_SENTENCES = 2\n",
        "\n",
        "learner.predict(TEXT, N_WORDS, temperature=0.75)"
      ],
      "execution_count": 16,
      "outputs": [
        {
          "output_type": "execute_result",
          "data": {
            "text/plain": [
              "'This french red wine is also full of red fruits , leaving a soft , smooth , rounded feel . The wine is full of fruits , with a gentle texture and a creamy feel . The texture is smooth and supple'"
            ]
          },
          "metadata": {
            "tags": []
          },
          "execution_count": 16
        }
      ]
    },
    {
      "cell_type": "markdown",
      "metadata": {
        "id": "BxghofgQ7qij",
        "colab_type": "text"
      },
      "source": [
        "As we can see, the language model performs really well, giving coherent phrases when asked to prediict the next word. It does however tend to repeat itself."
      ]
    },
    {
      "cell_type": "markdown",
      "metadata": {
        "id": "EMg6d-cQZTAv",
        "colab_type": "text"
      },
      "source": [
        "# Load Encoder and fit model"
      ]
    },
    {
      "cell_type": "markdown",
      "metadata": {
        "id": "x4IsG5qC7zvN",
        "colab_type": "text"
      },
      "source": [
        "Load the encoder weights from the language model trained earlier and define data block for our classification task."
      ]
    },
    {
      "cell_type": "code",
      "metadata": {
        "id": "YFlX3nJk-ydQ",
        "colab_type": "code",
        "outputId": "6a36ebfd-15b7-4edf-d794-7a2164dff2f3",
        "colab": {
          "base_uri": "https://localhost:8080/",
          "height": 17
        }
      },
      "source": [
        "#create databunch for training classification model\n",
        "#must use the same vocab as was used for training encoder\n",
        "data_clas = (TextList.from_df(df_cat, vocab=data.vocab)\n",
        "             .split_by_rand_pct(0.1)\n",
        "             .label_from_df('target')\n",
        "             .databunch())"
      ],
      "execution_count": 18,
      "outputs": [
        {
          "output_type": "display_data",
          "data": {
            "text/html": [
              ""
            ],
            "text/plain": [
              "<IPython.core.display.HTML object>"
            ]
          },
          "metadata": {
            "tags": []
          }
        },
        {
          "output_type": "display_data",
          "data": {
            "text/html": [
              ""
            ],
            "text/plain": [
              "<IPython.core.display.HTML object>"
            ]
          },
          "metadata": {
            "tags": []
          }
        }
      ]
    },
    {
      "cell_type": "markdown",
      "metadata": {
        "id": "wqdfpik98Nop",
        "colab_type": "text"
      },
      "source": [
        "Show example data"
      ]
    },
    {
      "cell_type": "code",
      "metadata": {
        "id": "l6_cuaFw_hXV",
        "colab_type": "code",
        "outputId": "ac90eb32-183a-45d6-bb06-cc461348e3c2",
        "colab": {
          "base_uri": "https://localhost:8080/",
          "height": 210
        }
      },
      "source": [
        "data_clas.show_batch(3)"
      ],
      "execution_count": 19,
      "outputs": [
        {
          "output_type": "display_data",
          "data": {
            "text/html": [
              "<table border=\"1\" class=\"dataframe\">\n",
              "  <thead>\n",
              "    <tr style=\"text-align: right;\">\n",
              "      <th>text</th>\n",
              "      <th>target</th>\n",
              "    </tr>\n",
              "  </thead>\n",
              "  <tbody>\n",
              "    <tr>\n",
              "      <td>xxbos xxmaj this very fine xxmaj cabernet wants a little time in the cellar . xxmaj right now , it 's tight in tannins , with some acidic bitterness in the finish . xxmaj the flavors are of black currants and smoky new oak . xxmaj the xxmaj morisoli xxmaj vineyard has been home to very good , ageable bottlings from the likes of xxmaj sequoia xxmaj grove and xxmaj</td>\n",
              "      <td>US - California</td>\n",
              "    </tr>\n",
              "    <tr>\n",
              "      <td>xxbos xxmaj this noted xxmaj napa producer has excelled at xxmaj petite xxmaj sirah for a long time , and with the impressive 2010 , they 've out - done themselves . xxmaj the wine comes from a vineyard block , said to be more than 70 years of age , that contains other varieties , such as xxmaj carignane , xxmaj grenache and xxmaj syrah . xxmaj thus ,</td>\n",
              "      <td>US - California</td>\n",
              "    </tr>\n",
              "    <tr>\n",
              "      <td>xxbos xxmaj the xxmaj xxunk xxmaj vineyard bottling is the outlier in the xxmaj archery xxmaj summit lineup — a different xxup ava and a non - estate vineyard . xxmaj the xxmaj ribbon xxmaj ridge xxup ava is a subset of a subset within the xxmaj willamette xxmaj valley , and it may be the hidden gem for producing great xxmaj pinot xxmaj noir . xxmaj this wine is</td>\n",
              "      <td>US - Oregon</td>\n",
              "    </tr>\n",
              "  </tbody>\n",
              "</table>"
            ],
            "text/plain": [
              "<IPython.core.display.HTML object>"
            ]
          },
          "metadata": {
            "tags": []
          }
        }
      ]
    },
    {
      "cell_type": "code",
      "metadata": {
        "id": "wi1fM_GoZWnX",
        "colab_type": "code",
        "colab": {}
      },
      "source": [
        "learn = text_classifier_learner(data_clas, AWD_LSTM, drop_mult=0.5)\n",
        "# learn.load_encoder('regional_encoder')"
      ],
      "execution_count": 0,
      "outputs": []
    },
    {
      "cell_type": "code",
      "metadata": {
        "id": "S4hETiMaZaqL",
        "colab_type": "code",
        "colab": {
          "base_uri": "https://localhost:8080/",
          "height": 112
        },
        "outputId": "dafa690d-5e9a-407d-bc1d-c971c23db518"
      },
      "source": [
        "learn.lr_find()"
      ],
      "execution_count": 21,
      "outputs": [
        {
          "output_type": "display_data",
          "data": {
            "text/html": [
              "\n",
              "    <div>\n",
              "        <style>\n",
              "            /* Turns off some styling */\n",
              "            progress {\n",
              "                /* gets rid of default border in Firefox and Opera. */\n",
              "                border: none;\n",
              "                /* Needs to be in here for Safari polyfill so background images work as expected. */\n",
              "                background-size: auto;\n",
              "            }\n",
              "            .progress-bar-interrupted, .progress-bar-interrupted::-webkit-progress-bar {\n",
              "                background: #F44336;\n",
              "            }\n",
              "        </style>\n",
              "      <progress value='0' class='' max='1' style='width:300px; height:20px; vertical-align: middle;'></progress>\n",
              "      0.00% [0/1 00:00<00:00]\n",
              "    </div>\n",
              "    \n",
              "<table border=\"1\" class=\"dataframe\">\n",
              "  <thead>\n",
              "    <tr style=\"text-align: left;\">\n",
              "      <th>epoch</th>\n",
              "      <th>train_loss</th>\n",
              "      <th>valid_loss</th>\n",
              "      <th>accuracy</th>\n",
              "      <th>time</th>\n",
              "    </tr>\n",
              "  </thead>\n",
              "  <tbody>\n",
              "  </tbody>\n",
              "</table><p>\n",
              "\n",
              "    <div>\n",
              "        <style>\n",
              "            /* Turns off some styling */\n",
              "            progress {\n",
              "                /* gets rid of default border in Firefox and Opera. */\n",
              "                border: none;\n",
              "                /* Needs to be in here for Safari polyfill so background images work as expected. */\n",
              "                background-size: auto;\n",
              "            }\n",
              "            .progress-bar-interrupted, .progress-bar-interrupted::-webkit-progress-bar {\n",
              "                background: #F44336;\n",
              "            }\n",
              "        </style>\n",
              "      <progress value='95' class='' max='1345' style='width:300px; height:20px; vertical-align: middle;'></progress>\n",
              "      7.06% [95/1345 00:30<06:44 11.1189]\n",
              "    </div>\n",
              "    "
            ],
            "text/plain": [
              "<IPython.core.display.HTML object>"
            ]
          },
          "metadata": {
            "tags": []
          }
        },
        {
          "output_type": "stream",
          "text": [
            "LR Finder is complete, type {learner_name}.recorder.plot() to see the graph.\n"
          ],
          "name": "stdout"
        }
      ]
    },
    {
      "cell_type": "code",
      "metadata": {
        "id": "Raqq_Wg1_xRY",
        "colab_type": "code",
        "colab": {
          "base_uri": "https://localhost:8080/",
          "height": 279
        },
        "outputId": "d850df9e-365f-40b0-bc42-f5c7a792247d"
      },
      "source": [
        "learn.recorder.plot()"
      ],
      "execution_count": 22,
      "outputs": [
        {
          "output_type": "display_data",
          "data": {
            "image/png": "[encoded data removed]",
            "text/plain": [
              "<Figure size 432x288 with 1 Axes>"
            ]
          },
          "metadata": {
            "tags": [],
            "needs_background": "light"
          }
        }
      ]
    },
    {
      "cell_type": "code",
      "metadata": {
        "id": "wPdEDPrg_z_1",
        "colab_type": "code",
        "colab": {}
      },
      "source": [
        "learn.fit_one_cycle(1, 1e-2, moms=(0.8,0.7))"
      ],
      "execution_count": 0,
      "outputs": []
    },
    {
      "cell_type": "code",
      "metadata": {
        "id": "D9pEohsWAPGL",
        "colab_type": "code",
        "colab": {}
      },
      "source": [
        "learn.fit_one_cycle(3, 1e-2, moms=(0.8,0.7))"
      ],
      "execution_count": 0,
      "outputs": []
    },
    {
      "cell_type": "code",
      "metadata": {
        "id": "CBcYU6M_BgXZ",
        "colab_type": "code",
        "colab": {}
      },
      "source": [
        "learn.save('first')\n",
        "learn.save('../drive/My Drive/wine_reviews/models/region_classifier/first')"
      ],
      "execution_count": 0,
      "outputs": []
    },
    {
      "cell_type": "code",
      "metadata": {
        "id": "pFH4LdLRHDpZ",
        "colab_type": "code",
        "colab": {}
      },
      "source": [
        "learn.freeze_to(-2)\n",
        "learn.fit_one_cycle(1, slice(1e-2/(2.6**4),1e-2), moms=(0.8,0.7))"
      ],
      "execution_count": 0,
      "outputs": []
    },
    {
      "cell_type": "code",
      "metadata": {
        "id": "w0w-ZHGUHL1F",
        "colab_type": "code",
        "colab": {}
      },
      "source": [
        "learn.save('second')\n",
        "learn.save('../drive/My Drive/wine_reviews/models/region_classifier/second')"
      ],
      "execution_count": 0,
      "outputs": []
    },
    {
      "cell_type": "code",
      "metadata": {
        "id": "ban1W2VUHOjX",
        "colab_type": "code",
        "colab": {}
      },
      "source": [
        "learn.freeze_to(-3)\n",
        "learn.fit_one_cycle(1, slice(5e-3/(2.6**4),5e-3), moms=(0.8,0.7))"
      ],
      "execution_count": 0,
      "outputs": []
    },
    {
      "cell_type": "code",
      "metadata": {
        "id": "pXvJg88MHYi1",
        "colab_type": "code",
        "colab": {}
      },
      "source": [
        "learn.save('third')\n",
        "learn.save('../drive/My Drive/wine_reviews/models/region_classifier/third')"
      ],
      "execution_count": 0,
      "outputs": []
    },
    {
      "cell_type": "code",
      "metadata": {
        "id": "n9iBgPXRHVEh",
        "colab_type": "code",
        "colab": {}
      },
      "source": [
        "learn.unfreeze()\n",
        "learn.fit_one_cycle(2, slice(1e-3/(2.6**4),1e-3), moms=(0.8,0.7))"
      ],
      "execution_count": 0,
      "outputs": []
    },
    {
      "cell_type": "code",
      "metadata": {
        "id": "XDEQa2VkHahV",
        "colab_type": "code",
        "colab": {}
      },
      "source": [
        "learn.save('fourth')"
      ],
      "execution_count": 0,
      "outputs": []
    },
    {
      "cell_type": "code",
      "metadata": {
        "id": "VnS4Bv5ZUsXW",
        "colab_type": "code",
        "colab": {}
      },
      "source": [
        "learn.fit_one_cycle(2, slice(5e-4/(2.6**4),5e-4), moms=(0.8,0.7))"
      ],
      "execution_count": 0,
      "outputs": []
    },
    {
      "cell_type": "code",
      "metadata": {
        "id": "Stj8SkGIUcam",
        "colab_type": "code",
        "colab": {}
      },
      "source": [
        "learn.save('fifth')\n",
        "learn.save('../drive/My Drive/wine_reviews/models/region_classifier/fifth')"
      ],
      "execution_count": 0,
      "outputs": []
    },
    {
      "cell_type": "code",
      "metadata": {
        "id": "0v-2z0Aos4Xo",
        "colab_type": "code",
        "colab": {}
      },
      "source": [
        "#also save databunches for future use \n",
        "# data_clas.save('drive/My Drive/wine_reviews/data/region_clas_data_clas')"
      ],
      "execution_count": 0,
      "outputs": []
    },
    {
      "cell_type": "markdown",
      "metadata": {
        "id": "hrFBKMBYs-fa",
        "colab_type": "text"
      },
      "source": [
        "# Test Model"
      ]
    },
    {
      "cell_type": "code",
      "metadata": {
        "id": "xci41ccgtANS",
        "colab_type": "code",
        "colab": {
          "base_uri": "https://localhost:8080/",
          "height": 136
        },
        "outputId": "8362ad62-67e6-4c55-d6cc-283fedc3646e"
      },
      "source": [
        "learn.predict('this is a dry, bitter wine')"
      ],
      "execution_count": 25,
      "outputs": [
        {
          "output_type": "execute_result",
          "data": {
            "text/plain": [
              "(Category France - Alsace,\n",
              " tensor(0),\n",
              " tensor([5.7692e-01, 1.9461e-03, 1.2741e-01, 2.5976e-03, 4.4801e-02, 2.3713e-02,\n",
              "         3.4923e-05, 6.1849e-02, 7.2134e-02, 7.7308e-04, 5.5331e-02, 8.8631e-05,\n",
              "         2.0241e-05, 4.0747e-05, 4.8424e-04, 1.3826e-04, 2.2194e-05, 5.3940e-05,\n",
              "         1.4177e-04, 6.0245e-04, 2.8054e-02, 4.3459e-05, 3.2940e-05, 3.3658e-05,\n",
              "         1.2115e-03, 1.3079e-05, 1.5121e-03]))"
            ]
          },
          "metadata": {
            "tags": []
          },
          "execution_count": 25
        }
      ]
    },
    {
      "cell_type": "code",
      "metadata": {
        "id": "7MHswXVlvMvr",
        "colab_type": "code",
        "colab": {
          "base_uri": "https://localhost:8080/",
          "height": 136
        },
        "outputId": "41461e39-55da-44a7-94ea-4e610503fea4"
      },
      "source": [
        "learn.predict('red wine with a hint of berry and citrus')"
      ],
      "execution_count": 26,
      "outputs": [
        {
          "output_type": "execute_result",
          "data": {
            "text/plain": [
              "(Category Italy - Northeastern Italy,\n",
              " tensor(14),\n",
              " tensor([1.2822e-03, 2.1342e-06, 1.2651e-03, 8.7199e-04, 2.6925e-05, 7.9763e-05,\n",
              "         7.2828e-05, 5.1413e-05, 2.7509e-05, 5.4479e-04, 5.7838e-05, 6.5310e-02,\n",
              "         5.3984e-03, 1.0518e-02, 4.8039e-01, 2.7930e-03, 5.5781e-02, 2.2459e-03,\n",
              "         5.0514e-02, 9.6038e-02, 1.3079e-01, 1.0485e-02, 1.4978e-04, 2.0840e-03,\n",
              "         4.8494e-02, 1.6873e-03, 3.3046e-02]))"
            ]
          },
          "metadata": {
            "tags": []
          },
          "execution_count": 26
        }
      ]
    },
    {
      "cell_type": "code",
      "metadata": {
        "id": "K2_mpAJwvRT0",
        "colab_type": "code",
        "colab": {
          "base_uri": "https://localhost:8080/",
          "height": 136
        },
        "outputId": "48c1deef-2579-42ec-bb5d-13ff3148898c"
      },
      "source": [
        "learn.predict('sour and dry, with distinct strawberry flavours')"
      ],
      "execution_count": 27,
      "outputs": [
        {
          "output_type": "execute_result",
          "data": {
            "text/plain": [
              "(Category US - California,\n",
              " tensor(20),\n",
              " tensor([3.0949e-02, 2.7768e-04, 4.3646e-04, 7.9019e-04, 6.6838e-03, 2.4096e-03,\n",
              "         1.9106e-04, 2.1472e-03, 1.8618e-03, 4.7746e-04, 4.4067e-04, 1.4697e-04,\n",
              "         1.0403e-04, 7.4829e-05, 2.3777e-04, 3.6213e-04, 3.6749e-05, 2.9711e-05,\n",
              "         2.3654e-04, 7.3719e-04, 9.3081e-01, 3.1721e-04, 4.2827e-04, 7.7499e-03,\n",
              "         7.0555e-03, 4.9932e-04, 4.5065e-03]))"
            ]
          },
          "metadata": {
            "tags": []
          },
          "execution_count": 27
        }
      ]
    },
    {
      "cell_type": "markdown",
      "metadata": {
        "id": "yvDIN0ZwuhJ5",
        "colab_type": "text"
      },
      "source": [
        "Model performance could probably be improved but is good enough for our use case. \n",
        "\n",
        "In addition the predictions on the above examples suggest that we can already start to attribute certain flavours and attributes to certain regions."
      ]
    }
  ]
}